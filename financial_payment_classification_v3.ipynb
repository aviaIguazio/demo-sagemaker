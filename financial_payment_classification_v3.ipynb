{
 "cells": [
  {
   "cell_type": "markdown",
   "id": "01b5c703",
   "metadata": {},
   "source": [
    "# SageMaker Payment Classification \n"
   ]
  },
  {
   "cell_type": "markdown",
   "id": "6498f087",
   "metadata": {},
   "source": [
    "---\n",
    "\n",
    "This notebook's CI test result for us-west-2 is as follows. CI test results in other regions can be found at the end of the notebook. \n",
    "\n",
    "![This us-west-2 badge failed to load. Check your device's internet connectivity, otherwise the service is currently unavailable](https://prod.us-west-2.tcx-beacon.docs.aws.dev/sagemaker-nb/us-west-2/use-cases|financial_payment_classification|financial_payment_classification.ipynb)\n",
    "\n",
    "---"
   ]
  },
  {
   "cell_type": "markdown",
   "id": "c2e49281",
   "metadata": {},
   "source": [
    "\n",
    "## Background <a class=\"anchor\" id=\"Background\"></a>\n",
    "\n",
    "This notebook demonstrates how you can train and deploy a machine learning model to classify payment transactions. Enriching financial transactions with the category of the transaction. This can be used as an intermediate step in fraud detection, personalization or anomaly detection. As well as a method to provide end users (e.g. customers at a bank) with an overview of their spending habits. Amazon SageMaker can be used to train and deploy a XGBoost model, as well as the required underlying infrastructure. For this notebook a generated dataset is used where a payment consists of mostly an amount, sender, receiver and timestamp.\n",
    "\n",
    "\n",
    "## Notebook overview <a class=\"anchor\" id=\"Notebook-overview\"></a>\n",
    "\n",
    "This notebook consists of seven parts. First, we import and configure the required libraries. After that we prepare the data used in this example and create the feature store. With the newly created features we create a XGBoost model. An endpoint is created to host this model. We evaluate the performance of the model and end by cleaning up the used resources.\n",
    "\n",
    "## Dataset <a class=\"anchor\" id=\"Dataset\"></a>\n",
    "\n",
    "For this notebook we use a synthetic dataset. This dataset has the following features \n",
    "\n",
    "* __transaction_category__: The category of the transaction, this is one of the next 19 options.\n",
    "\n",
    "               'Uncategorized', 'Entertainment', 'Education',\n",
    "                    'Shopping', 'Personal Care', 'Health and Fitness',\n",
    "             'Food and Dining', 'Gifts and Donations', 'Investments',\n",
    "         'Bills and Utilities', 'Auto and Transport', 'Travel',\n",
    "            'Fees and Charges', 'Business Services', 'Personal Services',\n",
    "                       'Taxes', 'Gambling', 'Home',\n",
    "      'Pension and insurances'\n",
    "\n",
    "\n",
    "* __receiver_id__: an identifier for the receiving party. The identifier consist of 16 numbers.\n",
    "* __sender_id__: an identifier for the sending party. The identifier consist of 16 numbers.\n",
    "* __amount__: the amount which is transferred.\n",
    "* __timestamp__: the timestamp of the transaction in YYYY-MM-DD HH:MM:SS format.\n",
    "\n",
    "\n",
    "### 1. Setup <a class=\"anchor\" id=\"Setup\"></a>\n",
    "\n",
    "Before we start we need to update the sagemaker library"
   ]
  },
  {
   "cell_type": "code",
   "execution_count": 1,
   "id": "fff19d6b",
   "metadata": {
    "editable": true,
    "slideshow": {
     "slide_type": ""
    },
    "tags": []
   },
   "outputs": [],
   "source": [
    "# import sys\n",
    "# !{sys.executable} -m pip install --upgrade pip       --quiet # upgrade pip to the latest vesion\n",
    "# !{sys.executable} -m pip install --upgrade sagemaker --quiet # upgrade SageMaker to the latest vesion\n",
    "# !{sys.executable} -m pip install --upgrade boto      --quiet # upgrade boto to the latest vesion"
   ]
  },
  {
   "cell_type": "code",
   "execution_count": 2,
   "id": "32a9c9d4-1515-4d8e-ad4c-e2f88544e67f",
   "metadata": {},
   "outputs": [],
   "source": [
    "import mlrun"
   ]
  },
  {
   "cell_type": "code",
   "execution_count": 3,
   "id": "1243f1c6-8043-41f6-a64f-1da7017622ac",
   "metadata": {
    "editable": true,
    "slideshow": {
     "slide_type": ""
    },
    "tags": []
   },
   "outputs": [
    {
     "name": "stdout",
     "output_type": "stream",
     "text": [
      "> 2024-02-07 12:50:31,736 [info] Project loaded successfully: {'project_name': 'sagemaker-v3'}\n"
     ]
    }
   ],
   "source": [
    "project = mlrun.get_or_create_project(\n",
    "    name=\"sagemaker-v3\", \n",
    "    user_project=True,\n",
    "    parameters={\n",
    "        # \"source\" : \"git://github.com/mlrun/demo-sagemaker#main\",\n",
    "        \"default_image\" : \"yonishelach/sagemaker-demo\"\n",
    "    }\n",
    ")"
   ]
  },
  {
   "cell_type": "markdown",
   "id": "1b17a94d",
   "metadata": {},
   "source": [
    "Now that we have the latest version we can import the libraries that we'll use in this notebook"
   ]
  },
  {
   "cell_type": "code",
   "execution_count": 4,
   "id": "42c5d6d0",
   "metadata": {},
   "outputs": [
    {
     "name": "stdout",
     "output_type": "stream",
     "text": [
      "sagemaker.config INFO - Not applying SDK defaults from location: /etc/xdg/sagemaker/config.yaml\n",
      "sagemaker.config INFO - Not applying SDK defaults from location: /home/sagemaker-user/.config/sagemaker/config.yaml\n"
     ]
    }
   ],
   "source": [
    "import boto3\n",
    "import io\n",
    "import sagemaker\n",
    "import time\n",
    "import os\n",
    "from sklearn.metrics import classification_report\n",
    "import pandas as pd\n",
    "import numpy as np\n",
    "from datetime import datetime, timedelta"
   ]
  },
  {
   "cell_type": "code",
   "execution_count": 5,
   "id": "6406c0df-e745-4e3d-ad98-7d4504ff8b07",
   "metadata": {},
   "outputs": [],
   "source": [
    "sagemaker_role = os.environ[\"SAGEMAKER-ROLE\"]"
   ]
  },
  {
   "cell_type": "code",
   "execution_count": 6,
   "id": "b0f0ea71-1c48-4174-a0bd-e1b4c0137d25",
   "metadata": {},
   "outputs": [],
   "source": [
    "sess = sagemaker.Session()\n",
    "write_bucket = sess.default_bucket()\n",
    "write_prefix = \"sagemaker-app-lab\""
   ]
  },
  {
   "cell_type": "markdown",
   "id": "3af7c33d",
   "metadata": {},
   "source": [
    "Let's set the session variables to ensure that SageMaker is configured correctly."
   ]
  },
  {
   "cell_type": "code",
   "execution_count": 7,
   "id": "c0e4db17",
   "metadata": {},
   "outputs": [],
   "source": [
    "region = sagemaker.Session().boto_region_name\n",
    "sm_client = boto3.client(\"sagemaker\")\n",
    "boto_session = boto3.Session(region_name=region)\n",
    "sagemaker_session = sagemaker.session.Session(boto_session=boto_session, sagemaker_client=sm_client)\n",
    "role = sagemaker_role\n",
    "bucket_prefix = \"payment-classification\"\n",
    "s3_bucket = sagemaker_session.default_bucket()"
   ]
  },
  {
   "cell_type": "markdown",
   "id": "4fe6a975",
   "metadata": {},
   "source": [
    "We define the factorize key which is used to map the '__transaction_category__' to numeric values"
   ]
  },
  {
   "cell_type": "code",
   "execution_count": 8,
   "id": "43946b9f",
   "metadata": {},
   "outputs": [],
   "source": [
    "factorize_key = {\n",
    "    \"Uncategorized\": 0,\n",
    "    \"Entertainment\": 1,\n",
    "    \"Education\": 2,\n",
    "    \"Shopping\": 3,\n",
    "    \"Personal Care\": 4,\n",
    "    \"Health and Fitness\": 5,\n",
    "    \"Food and Dining\": 6,\n",
    "    \"Gifts and Donations\": 7,\n",
    "    \"Investments\": 8,\n",
    "    \"Bills and Utilities\": 9,\n",
    "    \"Auto and Transport\": 10,\n",
    "    \"Travel\": 11,\n",
    "    \"Fees and Charges\": 12,\n",
    "    \"Business Services\": 13,\n",
    "    \"Personal Services\": 14,\n",
    "    \"Taxes\": 15,\n",
    "    \"Gambling\": 16,\n",
    "    \"Home\": 17,\n",
    "    \"Pension and insurances\": 18,\n",
    "}"
   ]
  },
  {
   "cell_type": "markdown",
   "id": "5e3dc3c4",
   "metadata": {},
   "source": [
    "### 2. Data preparation <a class=\"anchor\" id=\"Data-preparation\"></a>\n",
    "\n",
    "We ingest the simulated data from the public SageMaker S3 training database:"
   ]
  },
  {
   "cell_type": "code",
   "execution_count": 9,
   "id": "5ff0d280",
   "metadata": {},
   "outputs": [],
   "source": [
    "s3 = boto3.client(\"s3\")\n",
    "s3.download_file(\n",
    "    f\"sagemaker-example-files-prod-{region}\",\n",
    "    \"datasets/tabular/synthetic_financial/financial_transactions_mini.csv\",\n",
    "    \"financial_transactions_mini.csv\",\n",
    ")"
   ]
  },
  {
   "cell_type": "markdown",
   "id": "08578d93",
   "metadata": {},
   "source": [
    "Let's start by loading the dataset from our csv file into a Pandas dataframe"
   ]
  },
  {
   "cell_type": "code",
   "execution_count": 10,
   "id": "a477abd7",
   "metadata": {},
   "outputs": [],
   "source": [
    "data = pd.read_csv(\n",
    "    \"financial_transactions_mini.csv\",\n",
    "    parse_dates=[\"timestamp\"],\n",
    "    infer_datetime_format=True,\n",
    "    dtype={\"transaction_category\": \"string\"},\n",
    ")"
   ]
  },
  {
   "cell_type": "markdown",
   "id": "cf6be447",
   "metadata": {},
   "source": [
    "The dataframe looks as follows:\n",
    "\n",
    "| | transaction_category | receiver_id | sender_id | amount | timestamp |\n",
    "|------:|:-----------------------|-----------------:|-----------------:|---------:|:--------------------|\n",
    "| 39733 | Shopping | 4258863736072564 | 4630246970548037 | 91.58 | 2021-03-10 01:28:23 |\n",
    "| 27254 | Shopping | 4356269497886716 | 4752313573239323 | 115.17 | 2021-01-22 23:28:24 |\n",
    "| 30628 | Shopping | 4233636409552058 | 4635766441812956 | 90.98 | 2021-02-05 03:24:10 |\n",
    "| 46614 | Shopping | 4054967431278644 | 4823810986511227 | 86.74 | 2021-04-02 14:42:45 |\n",
    "| 37957 | Shopping | 4831814582525664 | 4254514582909482 | 123.27 | 2021-03-17 11:17:18 |\n",
    "| 46878 | Shopping | 4425943481448900 | 4349267977109013 | 65.53 | 2021-03-17 15:47:49 |\n",
    "| 81350 | Auto and Transport | 4146116413442105 | 4062723166078919 | 91.67 | 2021-03-29 13:23:44 |\n",
    "| 10613 | Entertainment | 4788727923958282 | 4485838385631386 | 76.22 | 2021-02-11 17:45:53 |\n",
    "| 46715 | Shopping | 4702782703461430 | 4944181591271506 | 86.67 | 2021-03-20 15:37:17 |\n",
    "| 69110 | Investments | 4180233446952120 | 4702069426390603 | 530.39 | 2021-04-21 08:28:13 |"
   ]
  },
  {
   "cell_type": "markdown",
   "id": "b5492919",
   "metadata": {},
   "source": [
    "Next, we extract the year, month, day, hour, minute, second from the timestamp and remove the timestamp"
   ]
  },
  {
   "cell_type": "code",
   "execution_count": 11,
   "id": "79b0854f-c209-4092-ac0f-a680f35c2c74",
   "metadata": {},
   "outputs": [],
   "source": [
    "for key, val in factorize_key.items():\n",
    "    factorize_key[key] = str(val)"
   ]
  },
  {
   "cell_type": "code",
   "execution_count": 12,
   "id": "ea2ebdd5",
   "metadata": {},
   "outputs": [],
   "source": [
    "data[\"transaction_category\"] = data[\"transaction_category\"].replace(factorize_key)"
   ]
  },
  {
   "cell_type": "code",
   "execution_count": 13,
   "id": "5d577920-41e4-40f0-baaf-4e2f363dc227",
   "metadata": {},
   "outputs": [],
   "source": [
    "data['transaction_id']= data.reset_index().index "
   ]
  },
  {
   "cell_type": "code",
   "execution_count": 14,
   "id": "fac2990c-fb9c-4d39-b02d-9477f55e4fcd",
   "metadata": {
    "scrolled": true
   },
   "outputs": [
    {
     "name": "stderr",
     "output_type": "stream",
     "text": [
      "\n",
      "A value is trying to be set on a copy of a slice from a DataFrame.\n",
      "Try using .loc[row_indexer,col_indexer] = value instead\n",
      "\n",
      "See the caveats in the documentation: https://pandas.pydata.org/pandas-docs/stable/user_guide/indexing.html#returning-a-view-versus-a-copy\n",
      "\n",
      "A value is trying to be set on a copy of a slice from a DataFrame.\n",
      "Try using .loc[row_indexer,col_indexer] = value instead\n",
      "\n",
      "See the caveats in the documentation: https://pandas.pydata.org/pandas-docs/stable/user_guide/indexing.html#returning-a-view-versus-a-copy\n",
      "\n",
      "A value is trying to be set on a copy of a slice from a DataFrame.\n",
      "Try using .loc[row_indexer,col_indexer] = value instead\n",
      "\n",
      "See the caveats in the documentation: https://pandas.pydata.org/pandas-docs/stable/user_guide/indexing.html#returning-a-view-versus-a-copy\n",
      "\n",
      "A value is trying to be set on a copy of a slice from a DataFrame.\n",
      "Try using .loc[row_indexer,col_indexer] = value instead\n",
      "\n",
      "See the caveats in the documentation: https://pandas.pydata.org/pandas-docs/stable/user_guide/indexing.html#returning-a-view-versus-a-copy\n",
      "\n",
      "A value is trying to be set on a copy of a slice from a DataFrame.\n",
      "Try using .loc[row_indexer,col_indexer] = value instead\n",
      "\n",
      "See the caveats in the documentation: https://pandas.pydata.org/pandas-docs/stable/user_guide/indexing.html#returning-a-view-versus-a-copy\n",
      "\n",
      "A value is trying to be set on a copy of a slice from a DataFrame.\n",
      "Try using .loc[row_indexer,col_indexer] = value instead\n",
      "\n",
      "See the caveats in the documentation: https://pandas.pydata.org/pandas-docs/stable/user_guide/indexing.html#returning-a-view-versus-a-copy\n",
      "\n",
      "A value is trying to be set on a copy of a slice from a DataFrame.\n",
      "Try using .loc[row_indexer,col_indexer] = value instead\n",
      "\n",
      "See the caveats in the documentation: https://pandas.pydata.org/pandas-docs/stable/user_guide/indexing.html#returning-a-view-versus-a-copy\n",
      "\n",
      "A value is trying to be set on a copy of a slice from a DataFrame.\n",
      "Try using .loc[row_indexer,col_indexer] = value instead\n",
      "\n",
      "See the caveats in the documentation: https://pandas.pydata.org/pandas-docs/stable/user_guide/indexing.html#returning-a-view-versus-a-copy\n",
      "\n",
      "A value is trying to be set on a copy of a slice from a DataFrame.\n",
      "Try using .loc[row_indexer,col_indexer] = value instead\n",
      "\n",
      "See the caveats in the documentation: https://pandas.pydata.org/pandas-docs/stable/user_guide/indexing.html#returning-a-view-versus-a-copy\n",
      "\n",
      "A value is trying to be set on a copy of a slice from a DataFrame.\n",
      "Try using .loc[row_indexer,col_indexer] = value instead\n",
      "\n",
      "See the caveats in the documentation: https://pandas.pydata.org/pandas-docs/stable/user_guide/indexing.html#returning-a-view-versus-a-copy\n",
      "\n",
      "A value is trying to be set on a copy of a slice from a DataFrame.\n",
      "Try using .loc[row_indexer,col_indexer] = value instead\n",
      "\n",
      "See the caveats in the documentation: https://pandas.pydata.org/pandas-docs/stable/user_guide/indexing.html#returning-a-view-versus-a-copy\n",
      "\n",
      "A value is trying to be set on a copy of a slice from a DataFrame.\n",
      "Try using .loc[row_indexer,col_indexer] = value instead\n",
      "\n",
      "See the caveats in the documentation: https://pandas.pydata.org/pandas-docs/stable/user_guide/indexing.html#returning-a-view-versus-a-copy\n",
      "\n",
      "A value is trying to be set on a copy of a slice from a DataFrame.\n",
      "Try using .loc[row_indexer,col_indexer] = value instead\n",
      "\n",
      "See the caveats in the documentation: https://pandas.pydata.org/pandas-docs/stable/user_guide/indexing.html#returning-a-view-versus-a-copy\n",
      "\n",
      "A value is trying to be set on a copy of a slice from a DataFrame.\n",
      "Try using .loc[row_indexer,col_indexer] = value instead\n",
      "\n",
      "See the caveats in the documentation: https://pandas.pydata.org/pandas-docs/stable/user_guide/indexing.html#returning-a-view-versus-a-copy\n",
      "\n",
      "A value is trying to be set on a copy of a slice from a DataFrame.\n",
      "Try using .loc[row_indexer,col_indexer] = value instead\n",
      "\n",
      "See the caveats in the documentation: https://pandas.pydata.org/pandas-docs/stable/user_guide/indexing.html#returning-a-view-versus-a-copy\n",
      "\n",
      "A value is trying to be set on a copy of a slice from a DataFrame.\n",
      "Try using .loc[row_indexer,col_indexer] = value instead\n",
      "\n",
      "See the caveats in the documentation: https://pandas.pydata.org/pandas-docs/stable/user_guide/indexing.html#returning-a-view-versus-a-copy\n",
      "\n",
      "A value is trying to be set on a copy of a slice from a DataFrame.\n",
      "Try using .loc[row_indexer,col_indexer] = value instead\n",
      "\n",
      "See the caveats in the documentation: https://pandas.pydata.org/pandas-docs/stable/user_guide/indexing.html#returning-a-view-versus-a-copy\n",
      "\n",
      "A value is trying to be set on a copy of a slice from a DataFrame.\n",
      "Try using .loc[row_indexer,col_indexer] = value instead\n",
      "\n",
      "See the caveats in the documentation: https://pandas.pydata.org/pandas-docs/stable/user_guide/indexing.html#returning-a-view-versus-a-copy\n",
      "\n",
      "A value is trying to be set on a copy of a slice from a DataFrame.\n",
      "Try using .loc[row_indexer,col_indexer] = value instead\n",
      "\n",
      "See the caveats in the documentation: https://pandas.pydata.org/pandas-docs/stable/user_guide/indexing.html#returning-a-view-versus-a-copy\n"
     ]
    },
    {
     "data": {
      "text/html": [
       "<div>\n",
       "<style scoped>\n",
       "    .dataframe tbody tr th:only-of-type {\n",
       "        vertical-align: middle;\n",
       "    }\n",
       "\n",
       "    .dataframe tbody tr th {\n",
       "        vertical-align: top;\n",
       "    }\n",
       "\n",
       "    .dataframe thead th {\n",
       "        text-align: right;\n",
       "    }\n",
       "</style>\n",
       "<table border=\"1\" class=\"dataframe\">\n",
       "  <thead>\n",
       "    <tr style=\"text-align: right;\">\n",
       "      <th></th>\n",
       "      <th>transaction_category</th>\n",
       "      <th>receiver_id</th>\n",
       "      <th>sender_id</th>\n",
       "      <th>amount</th>\n",
       "      <th>timestamp</th>\n",
       "      <th>transaction_id</th>\n",
       "    </tr>\n",
       "  </thead>\n",
       "  <tbody>\n",
       "    <tr>\n",
       "      <th>106</th>\n",
       "      <td>0</td>\n",
       "      <td>4.601853e+15</td>\n",
       "      <td>4.274416e+15</td>\n",
       "      <td>879.39</td>\n",
       "      <td>2021-01-01 15:07:52</td>\n",
       "      <td>106.0</td>\n",
       "    </tr>\n",
       "    <tr>\n",
       "      <th>378</th>\n",
       "      <td>0</td>\n",
       "      <td>4.274544e+15</td>\n",
       "      <td>4.366884e+15</td>\n",
       "      <td>628.01</td>\n",
       "      <td>2021-01-01 16:33:53</td>\n",
       "      <td>378.0</td>\n",
       "    </tr>\n",
       "    <tr>\n",
       "      <th>368</th>\n",
       "      <td>0</td>\n",
       "      <td>4.601853e+15</td>\n",
       "      <td>4.161674e+15</td>\n",
       "      <td>89.69</td>\n",
       "      <td>2021-01-01 18:17:29</td>\n",
       "      <td>368.0</td>\n",
       "    </tr>\n",
       "    <tr>\n",
       "      <th>17</th>\n",
       "      <td>0</td>\n",
       "      <td>4.518552e+15</td>\n",
       "      <td>4.619387e+15</td>\n",
       "      <td>222.01</td>\n",
       "      <td>2021-01-01 18:33:18</td>\n",
       "      <td>17.0</td>\n",
       "    </tr>\n",
       "    <tr>\n",
       "      <th>178</th>\n",
       "      <td>0</td>\n",
       "      <td>4.274544e+15</td>\n",
       "      <td>4.456440e+15</td>\n",
       "      <td>418.52</td>\n",
       "      <td>2021-01-01 19:33:31</td>\n",
       "      <td>178.0</td>\n",
       "    </tr>\n",
       "    <tr>\n",
       "      <th>...</th>\n",
       "      <td>...</td>\n",
       "      <td>...</td>\n",
       "      <td>...</td>\n",
       "      <td>...</td>\n",
       "      <td>...</td>\n",
       "      <td>...</td>\n",
       "    </tr>\n",
       "    <tr>\n",
       "      <th>69938</th>\n",
       "      <td>9</td>\n",
       "      <td>4.904096e+15</td>\n",
       "      <td>4.133603e+15</td>\n",
       "      <td>124.08</td>\n",
       "      <td>2024-02-05 15:00:00</td>\n",
       "      <td>69938.0</td>\n",
       "    </tr>\n",
       "    <tr>\n",
       "      <th>70592</th>\n",
       "      <td>9</td>\n",
       "      <td>4.904096e+15</td>\n",
       "      <td>4.444087e+15</td>\n",
       "      <td>188.66</td>\n",
       "      <td>2024-02-06 10:00:00</td>\n",
       "      <td>70592.0</td>\n",
       "    </tr>\n",
       "    <tr>\n",
       "      <th>70379</th>\n",
       "      <td>9</td>\n",
       "      <td>4.200241e+15</td>\n",
       "      <td>4.202495e+15</td>\n",
       "      <td>139.27</td>\n",
       "      <td>2024-02-06 15:00:00</td>\n",
       "      <td>70379.0</td>\n",
       "    </tr>\n",
       "    <tr>\n",
       "      <th>70462</th>\n",
       "      <td>9</td>\n",
       "      <td>4.612985e+15</td>\n",
       "      <td>4.525455e+15</td>\n",
       "      <td>12.49</td>\n",
       "      <td>2024-02-07 10:00:00</td>\n",
       "      <td>70462.0</td>\n",
       "    </tr>\n",
       "    <tr>\n",
       "      <th>71672</th>\n",
       "      <td>9</td>\n",
       "      <td>4.538817e+15</td>\n",
       "      <td>4.291294e+15</td>\n",
       "      <td>57.03</td>\n",
       "      <td>2024-02-07 15:00:00</td>\n",
       "      <td>71672.0</td>\n",
       "    </tr>\n",
       "  </tbody>\n",
       "</table>\n",
       "<p>99997 rows × 6 columns</p>\n",
       "</div>"
      ],
      "text/plain": [
       "      transaction_category   receiver_id     sender_id  amount  \\\n",
       "106                      0  4.601853e+15  4.274416e+15  879.39   \n",
       "378                      0  4.274544e+15  4.366884e+15  628.01   \n",
       "368                      0  4.601853e+15  4.161674e+15   89.69   \n",
       "17                       0  4.518552e+15  4.619387e+15  222.01   \n",
       "178                      0  4.274544e+15  4.456440e+15  418.52   \n",
       "...                    ...           ...           ...     ...   \n",
       "69938                    9  4.904096e+15  4.133603e+15  124.08   \n",
       "70592                    9  4.904096e+15  4.444087e+15  188.66   \n",
       "70379                    9  4.200241e+15  4.202495e+15  139.27   \n",
       "70462                    9  4.612985e+15  4.525455e+15   12.49   \n",
       "71672                    9  4.538817e+15  4.291294e+15   57.03   \n",
       "\n",
       "                timestamp  transaction_id  \n",
       "106   2021-01-01 15:07:52           106.0  \n",
       "378   2021-01-01 16:33:53           378.0  \n",
       "368   2021-01-01 18:17:29           368.0  \n",
       "17    2021-01-01 18:33:18            17.0  \n",
       "178   2021-01-01 19:33:31           178.0  \n",
       "...                   ...             ...  \n",
       "69938 2024-02-05 15:00:00         69938.0  \n",
       "70592 2024-02-06 10:00:00         70592.0  \n",
       "70379 2024-02-06 15:00:00         70379.0  \n",
       "70462 2024-02-07 10:00:00         70462.0  \n",
       "71672 2024-02-07 15:00:00         71672.0  \n",
       "\n",
       "[99997 rows x 6 columns]"
      ]
     },
     "execution_count": 14,
     "metadata": {},
     "output_type": "execute_result"
    }
   ],
   "source": [
    "# Function that updates the timestamps so each transaction category has rows with timestamps from the last 5 days (2 per day)\n",
    "from utils import update_timestamps\n",
    "data = update_timestamps(data)\n",
    "data"
   ]
  },
  {
   "cell_type": "markdown",
   "id": "ce6d007f-4be8-47be-a993-6c0e6a217d86",
   "metadata": {
    "tags": []
   },
   "source": [
    "### 3. Create feature store <a class=\"anchor\" id=\"Create-feature-store\"></a>\n",
    "\n",
    "To enrich dataset we will use the [Feature Store](https://aws.amazon.com/sagemaker/feature-store/). "
   ]
  },
  {
   "cell_type": "markdown",
   "id": "7fa840f3-e226-4e6a-9159-748b5dd77f8d",
   "metadata": {},
   "source": [
    "#### feature-group-payment-classification"
   ]
  },
  {
   "cell_type": "code",
   "execution_count": 15,
   "id": "7422a9ca-91d5-4aa7-bd44-993e309e11f5",
   "metadata": {},
   "outputs": [],
   "source": [
    "def calculate_category_distance(event):\n",
    "    event['distance'] = abs(event['amount']-event['amount_avg_1d'])\n",
    "    return event"
   ]
  },
  {
   "cell_type": "code",
   "execution_count": 21,
   "id": "4101c303-2da3-431b-9375-9fa1747070af",
   "metadata": {},
   "outputs": [
    {
     "data": {
      "image/svg+xml": [
       "<?xml version=\"1.0\" encoding=\"UTF-8\" standalone=\"no\"?>\n",
       "<!DOCTYPE svg PUBLIC \"-//W3C//DTD SVG 1.1//EN\"\n",
       " \"http://www.w3.org/Graphics/SVG/1.1/DTD/svg11.dtd\">\n",
       "<!-- Generated by graphviz version 8.1.0 (20230707.2238)\n",
       " -->\n",
       "<!-- Title: mlrun&#45;flow Pages: 1 -->\n",
       "<svg width=\"964pt\" height=\"98pt\"\n",
       " viewBox=\"0.00 0.00 963.79 98.00\" xmlns=\"http://www.w3.org/2000/svg\" xmlns:xlink=\"http://www.w3.org/1999/xlink\">\n",
       "<g id=\"graph0\" class=\"graph\" transform=\"scale(1 1) rotate(0) translate(4 94)\">\n",
       "<title>mlrun&#45;flow</title>\n",
       "<polygon fill=\"white\" stroke=\"none\" points=\"-4,4 -4,-94 959.79,-94 959.79,4 -4,4\"/>\n",
       "<!-- _start -->\n",
       "<g id=\"node1\" class=\"node\">\n",
       "<title>_start</title>\n",
       "<polygon fill=\"lightgrey\" stroke=\"black\" points=\"38.51,-27.05 40.67,-27.15 42.81,-27.3 44.91,-27.49 46.98,-27.74 49,-28.03 50.96,-28.36 52.86,-28.75 54.69,-29.18 56.44,-29.65 58.11,-30.16 59.69,-30.71 61.17,-31.31 62.55,-31.94 63.83,-32.61 65.01,-33.31 66.07,-34.04 67.02,-34.8 67.85,-35.59 68.58,-36.41 69.18,-37.25 69.67,-38.11 70.05,-38.99 70.31,-39.89 70.46,-40.8 70.5,-41.72 70.43,-42.65 70.26,-43.59 69.99,-44.53 69.62,-45.47 69.16,-46.41 68.61,-47.35 67.98,-48.28 67.27,-49.2 66.48,-50.11 65.62,-51.01 64.7,-51.89 63.72,-52.75 62.68,-53.59 61.59,-54.41 60.46,-55.2 59.28,-55.96 58.07,-56.69 56.82,-57.39 55.54,-58.06 54.23,-58.69 52.9,-59.29 51.55,-59.84 50.18,-60.35 48.8,-60.82 47.4,-61.25 45.99,-61.64 44.58,-61.97 43.15,-62.26 41.72,-62.51 40.29,-62.7 38.85,-62.85 37.41,-62.95 35.97,-63 34.53,-63 33.09,-62.95 31.65,-62.85 30.21,-62.7 28.77,-62.51 27.34,-62.26 25.92,-61.97 24.5,-61.64 23.1,-61.25 21.7,-60.82 20.32,-60.35 18.95,-59.84 17.6,-59.29 16.27,-58.69 14.96,-58.06 13.68,-57.39 12.43,-56.69 11.22,-55.96 10.04,-55.2 8.9,-54.41 7.82,-53.59 6.78,-52.75 5.8,-51.89 4.87,-51.01 4.02,-50.11 3.23,-49.2 2.52,-48.28 1.89,-47.35 1.34,-46.41 0.88,-45.47 0.51,-44.53 0.24,-43.59 0.07,-42.65 0,-41.72 0.04,-40.8 0.19,-39.89 0.45,-38.99 0.83,-38.11 1.32,-37.25 1.92,-36.41 2.64,-35.59 3.48,-34.8 4.43,-34.04 5.49,-33.31 6.67,-32.61 7.95,-31.94 9.33,-31.31 10.81,-30.71 12.39,-30.16 14.06,-29.65 15.81,-29.18 17.64,-28.75 19.54,-28.36 21.5,-28.03 23.52,-27.74 25.58,-27.49 27.69,-27.3 29.83,-27.15 31.99,-27.05 34.16,-27 36.34,-27 38.51,-27.05\"/>\n",
       "<text text-anchor=\"middle\" x=\"35.25\" y=\"-39.58\" font-family=\"Times,serif\" font-size=\"14.00\">start</text>\n",
       "</g>\n",
       "<!-- DateExtractor -->\n",
       "<g id=\"node2\" class=\"node\">\n",
       "<title>DateExtractor</title>\n",
       "<ellipse fill=\"none\" stroke=\"black\" cx=\"175.53\" cy=\"-45\" rx=\"69.03\" ry=\"18\"/>\n",
       "<text text-anchor=\"middle\" x=\"175.53\" y=\"-39.58\" font-family=\"Times,serif\" font-size=\"14.00\">DateExtractor</text>\n",
       "</g>\n",
       "<!-- _start&#45;&gt;DateExtractor -->\n",
       "<g id=\"edge1\" class=\"edge\">\n",
       "<title>_start&#45;&gt;DateExtractor</title>\n",
       "<path fill=\"none\" stroke=\"black\" d=\"M70.08,-45C77.86,-45 86.47,-45 95.3,-45\"/>\n",
       "<polygon fill=\"black\" stroke=\"black\" points=\"95.14,-48.5 105.14,-45 95.14,-41.5 95.14,-48.5\"/>\n",
       "</g>\n",
       "<!-- Aggregates -->\n",
       "<g id=\"node3\" class=\"node\">\n",
       "<title>Aggregates</title>\n",
       "<ellipse fill=\"none\" stroke=\"black\" cx=\"336.11\" cy=\"-45\" rx=\"55.55\" ry=\"18\"/>\n",
       "<text text-anchor=\"middle\" x=\"336.11\" y=\"-39.58\" font-family=\"Times,serif\" font-size=\"14.00\">Aggregates</text>\n",
       "</g>\n",
       "<!-- DateExtractor&#45;&gt;Aggregates -->\n",
       "<g id=\"edge2\" class=\"edge\">\n",
       "<title>DateExtractor&#45;&gt;Aggregates</title>\n",
       "<path fill=\"none\" stroke=\"black\" d=\"M244.7,-45C252.9,-45 261.25,-45 269.41,-45\"/>\n",
       "<polygon fill=\"black\" stroke=\"black\" points=\"269.38,-48.5 279.38,-45 269.38,-41.5 269.38,-48.5\"/>\n",
       "</g>\n",
       "<!-- calculate_category_distance -->\n",
       "<g id=\"node4\" class=\"node\">\n",
       "<title>calculate_category_distance</title>\n",
       "<ellipse fill=\"none\" stroke=\"black\" cx=\"559.57\" cy=\"-45\" rx=\"131.9\" ry=\"18\"/>\n",
       "<text text-anchor=\"middle\" x=\"559.57\" y=\"-39.58\" font-family=\"Times,serif\" font-size=\"14.00\">calculate_category_distance</text>\n",
       "</g>\n",
       "<!-- Aggregates&#45;&gt;calculate_category_distance -->\n",
       "<g id=\"edge3\" class=\"edge\">\n",
       "<title>Aggregates&#45;&gt;calculate_category_distance</title>\n",
       "<path fill=\"none\" stroke=\"black\" d=\"M392.14,-45C399.88,-45 408.12,-45 416.62,-45\"/>\n",
       "<polygon fill=\"black\" stroke=\"black\" points=\"416.52,-48.5 426.52,-45 416.52,-41.5 416.52,-48.5\"/>\n",
       "</g>\n",
       "<!-- DropFeatures -->\n",
       "<g id=\"node5\" class=\"node\">\n",
       "<title>DropFeatures</title>\n",
       "<ellipse fill=\"none\" stroke=\"black\" cx=\"792\" cy=\"-45\" rx=\"64.54\" ry=\"18\"/>\n",
       "<text text-anchor=\"middle\" x=\"792\" y=\"-39.58\" font-family=\"Times,serif\" font-size=\"14.00\">DropFeatures</text>\n",
       "</g>\n",
       "<!-- calculate_category_distance&#45;&gt;DropFeatures -->\n",
       "<g id=\"edge4\" class=\"edge\">\n",
       "<title>calculate_category_distance&#45;&gt;DropFeatures</title>\n",
       "<path fill=\"none\" stroke=\"black\" d=\"M691.94,-45C700.18,-45 708.31,-45 716.16,-45\"/>\n",
       "<polygon fill=\"black\" stroke=\"black\" points=\"716.04,-48.5 726.04,-45 716.04,-41.5 716.04,-48.5\"/>\n",
       "</g>\n",
       "<!-- parquet/parquet -->\n",
       "<g id=\"node6\" class=\"node\">\n",
       "<title>parquet/parquet</title>\n",
       "<path fill=\"none\" stroke=\"black\" d=\"M955.79,-86.73C955.79,-88.53 941.62,-90 924.17,-90 906.71,-90 892.54,-88.53 892.54,-86.73 892.54,-86.73 892.54,-57.27 892.54,-57.27 892.54,-55.47 906.71,-54 924.17,-54 941.62,-54 955.79,-55.47 955.79,-57.27 955.79,-57.27 955.79,-86.73 955.79,-86.73\"/>\n",
       "<path fill=\"none\" stroke=\"black\" d=\"M955.79,-86.73C955.79,-84.92 941.62,-83.45 924.17,-83.45 906.71,-83.45 892.54,-84.92 892.54,-86.73\"/>\n",
       "<text text-anchor=\"middle\" x=\"924.17\" y=\"-66.58\" font-family=\"Times,serif\" font-size=\"14.00\">parquet</text>\n",
       "</g>\n",
       "<!-- DropFeatures&#45;&gt;parquet/parquet -->\n",
       "<g id=\"edge5\" class=\"edge\">\n",
       "<title>DropFeatures&#45;&gt;parquet/parquet</title>\n",
       "<path fill=\"none\" stroke=\"black\" d=\"M844.82,-55.75C856.96,-58.27 869.75,-60.92 881.39,-63.33\"/>\n",
       "<polygon fill=\"black\" stroke=\"black\" points=\"880.63,-66.96 891.14,-65.56 882.06,-60.11 880.63,-66.96\"/>\n",
       "</g>\n",
       "<!-- nosql/nosql -->\n",
       "<g id=\"node7\" class=\"node\">\n",
       "<title>nosql/nosql</title>\n",
       "<path fill=\"none\" stroke=\"black\" d=\"M951.17,-32.73C951.17,-34.53 939.06,-36 924.17,-36 909.27,-36 897.17,-34.53 897.17,-32.73 897.17,-32.73 897.17,-3.27 897.17,-3.27 897.17,-1.47 909.27,0 924.17,0 939.06,0 951.17,-1.47 951.17,-3.27 951.17,-3.27 951.17,-32.73 951.17,-32.73\"/>\n",
       "<path fill=\"none\" stroke=\"black\" d=\"M951.17,-32.73C951.17,-30.92 939.06,-29.45 924.17,-29.45 909.27,-29.45 897.17,-30.92 897.17,-32.73\"/>\n",
       "<text text-anchor=\"middle\" x=\"924.17\" y=\"-12.57\" font-family=\"Times,serif\" font-size=\"14.00\">nosql</text>\n",
       "</g>\n",
       "<!-- DropFeatures&#45;&gt;nosql/nosql -->\n",
       "<g id=\"edge6\" class=\"edge\">\n",
       "<title>DropFeatures&#45;&gt;nosql/nosql</title>\n",
       "<path fill=\"none\" stroke=\"black\" d=\"M844.82,-34.25C858.64,-31.39 873.29,-28.35 886.14,-25.68\"/>\n",
       "<polygon fill=\"black\" stroke=\"black\" points=\"886.82,-28.91 895.9,-23.45 885.39,-22.05 886.82,-28.91\"/>\n",
       "</g>\n",
       "</g>\n",
       "</svg>\n"
      ],
      "text/plain": [
       "<graphviz.graphs.Digraph at 0x7f28797196a0>"
      ]
     },
     "execution_count": 21,
     "metadata": {},
     "output_type": "execute_result"
    }
   ],
   "source": [
    "import mlrun.feature_store as fstore\n",
    "from mlrun.feature_store.steps import OneHotEncoder, MapValues, DateExtractor, DropFeatures\n",
    "\n",
    "# creating feature set\n",
    "extended_transactions_set = fstore.FeatureSet(\"transactions-v3\",\n",
    "                                 entities=[fstore.Entity(\"transaction_id\")],\n",
    "                                 description=\"transactions feature set\")\n",
    "\n",
    "# setting up the graph\n",
    "# setting up the graph\n",
    "extended_transactions_set.graph \\\n",
    "    .to(DateExtractor(parts = ['year', 'month', 'day', 'hour','minute','second'], timestamp_col = 'timestamp'))\n",
    "    \n",
    "\n",
    "\n",
    "extended_transactions_set.add_aggregation(name='amount',\n",
    "                                column='amount',\n",
    "                                operations=['avg'],\n",
    "                                windows=['1d'],\n",
    "                                )\n",
    "\n",
    "extended_transactions_set.graph.to(name=\"calculate_category_distance\", handler=\"calculate_category_distance\").after_step('Aggregates').to(DropFeatures(features=['timestamp']))\n",
    "\n",
    "\n",
    "extended_transactions_set.set_targets()\n",
    "\n",
    "extended_transactions_set.plot(rankdir=\"LR\", with_targets=True)"
   ]
  },
  {
   "cell_type": "code",
   "execution_count": null,
   "id": "1b6a6a84-fa0b-4db4-a3fc-aa02331718ed",
   "metadata": {},
   "outputs": [
    {
     "name": "stdout",
     "output_type": "stream",
     "text": [
      "> 2024-02-07 13:11:28,253 [warning] Overriding type of entity 'transaction_id' from 'str' to 'float'. This may result in errors or unusable data.\n"
     ]
    }
   ],
   "source": [
    "ingested_data = extended_transactions_set.ingest(data, overwrite=True)\n",
    "ingested_data"
   ]
  },
  {
   "cell_type": "code",
   "execution_count": null,
   "id": "03ed9e67-34f1-44c6-9474-bb24e7561da6",
   "metadata": {},
   "outputs": [],
   "source": [
    "# Import MLRun's Feature Store\n",
    "import mlrun.feature_store as fstore\n",
    "\n",
    "# create feature vector on top of aggreagations\n",
    "# Define the list of features we will be using\n",
    "features = ['transactions-v2.*']\n",
    "\n",
    "# Define the feature vector name for future reference\n",
    "fv_name = 'aggreagations-vector'\n",
    "\n",
    "# Define the feature vector using our Feature Store (fstore)\n",
    "aggregations_fv = fstore.FeatureVector(fv_name, \n",
    "                          features,                           \n",
    "                          description='stocks information')\n",
    "\n",
    "#label_feature = 'transactions-v2.transaction_category',\n",
    "# Save the feature vector in the Feature Store\n",
    "aggregations_fv.save()"
   ]
  },
  {
   "cell_type": "markdown",
   "id": "b5e4834e",
   "metadata": {},
   "source": [
    "We update the values in the feature store with the real values of our data"
   ]
  },
  {
   "cell_type": "markdown",
   "id": "e2f6395f",
   "metadata": {},
   "source": [
    "And display them after getting them from the feature store"
   ]
  },
  {
   "cell_type": "markdown",
   "id": "cf148985",
   "metadata": {},
   "source": [
    "We use the feature store to calculate the distance between the average of every category and the current amount"
   ]
  },
  {
   "cell_type": "markdown",
   "id": "289eeca6",
   "metadata": {},
   "source": [
    "### 4. Create model <a class=\"anchor\" id=\"Create-model\"></a>\n",
    "In this notebook we will be using the [Extreme Gradient Boosting](https://docs.aws.amazon.com/sagemaker/latest/dg/xgboost.html) (XGBoost) implementation of the gradient boosted trees algorithm. This model is selected due to it relatively fast training time and explainable properties. The model can be substituted at will a different [SageMaker estimator](https://sagemaker.readthedocs.io/en/stable/api/training/estimators.html) or a [model of your choosing](https://aws.amazon.com/blogs/machine-learning/bring-your-own-model-with-amazon-sagemaker-script-mode/).\n",
    "\n",
    "\n",
    "\n",
    "Now that we have the dataset we can start preparing the model. First, we create a training, validation and testing split."
   ]
  },
  {
   "cell_type": "code",
   "execution_count": null,
   "id": "bb4bdd8d",
   "metadata": {},
   "outputs": [],
   "source": [
    "# Randomly sort the data then split out first 70%, second 20%, and last 10%\n",
    "train_data, validation_data, test_data = np.split(\n",
    "    data.sample(frac=1, random_state=42), [int(0.7 * len(data)), int(0.9 * len(data))]\n",
    ")"
   ]
  },
  {
   "cell_type": "markdown",
   "id": "f81f65b9",
   "metadata": {},
   "source": [
    "We save these sets to a file."
   ]
  },
  {
   "cell_type": "code",
   "execution_count": null,
   "id": "f849a7a9",
   "metadata": {},
   "outputs": [],
   "source": [
    "train_data.to_csv(\"train.csv\", index=False, header=False)\n",
    "validation_data.to_csv(\"validation.csv\", index=False, header=False)\n",
    "test_data.to_csv(\"test.csv\", index=False, header=True)"
   ]
  },
  {
   "cell_type": "markdown",
   "id": "de669936",
   "metadata": {},
   "source": [
    "And upload these files to our s3 bucket"
   ]
  },
  {
   "cell_type": "code",
   "execution_count": null,
   "id": "e1ca2543",
   "metadata": {},
   "outputs": [],
   "source": [
    "boto3.Session().resource(\"s3\").Bucket(s3_bucket).Object(\n",
    "    os.path.join(bucket_prefix, \"train/train.csv\")\n",
    ").upload_file(\"train.csv\")\n",
    "boto3.Session().resource(\"s3\").Bucket(s3_bucket).Object(\n",
    "    os.path.join(bucket_prefix, \"validation/validation.csv\")\n",
    ").upload_file(\"validation.csv\")\n",
    "boto3.Session().resource(\"s3\").Bucket(s3_bucket).Object(\n",
    "    os.path.join(bucket_prefix, \"test/test.csv\")\n",
    ").upload_file(\"test.csv\")"
   ]
  },
  {
   "cell_type": "markdown",
   "id": "22de532f",
   "metadata": {},
   "source": [
    "Get the XGBoost sagemaker image"
   ]
  },
  {
   "cell_type": "code",
   "execution_count": null,
   "id": "a41b6a7d",
   "metadata": {},
   "outputs": [],
   "source": [
    "container = sagemaker.image_uris.retrieve(region=region, framework=\"xgboost\", version=\"1.2-2\")"
   ]
  },
  {
   "cell_type": "markdown",
   "id": "66cae2a9",
   "metadata": {},
   "source": [
    "Transform our data to a sagemaker input for training"
   ]
  },
  {
   "cell_type": "code",
   "execution_count": null,
   "id": "e51c917a",
   "metadata": {},
   "outputs": [],
   "source": [
    "s3_input_train = sagemaker.inputs.TrainingInput(\n",
    "    s3_data=\"s3://{}/{}/train\".format(s3_bucket, bucket_prefix), content_type=\"csv\"\n",
    ")\n",
    "s3_input_validation = sagemaker.inputs.TrainingInput(\n",
    "    s3_data=\"s3://{}/{}/validation/\".format(s3_bucket, bucket_prefix), content_type=\"csv\"\n",
    ")"
   ]
  },
  {
   "cell_type": "markdown",
   "id": "6f2985d8",
   "metadata": {},
   "source": [
    "We define the XGBoost model"
   ]
  },
  {
   "cell_type": "code",
   "execution_count": null,
   "id": "92c1fe8c",
   "metadata": {},
   "outputs": [],
   "source": [
    "xgb = sagemaker.estimator.Estimator(\n",
    "    container,\n",
    "    role,\n",
    "    instance_count=1,\n",
    "    instance_type=\"ml.m4.xlarge\",\n",
    "    output_path=\"s3://{}/{}/output\".format(s3_bucket, bucket_prefix),\n",
    "    sagemaker_session=sagemaker_session,\n",
    ")"
   ]
  },
  {
   "cell_type": "markdown",
   "id": "ecafdfe8",
   "metadata": {},
   "source": [
    "Set the parameters"
   ]
  },
  {
   "cell_type": "code",
   "execution_count": null,
   "id": "582adc6c",
   "metadata": {},
   "outputs": [],
   "source": [
    "xgb.set_hyperparameters(\n",
    "    max_depth=5,\n",
    "    eta=0.2,\n",
    "    gamma=4,\n",
    "    min_child_weight=6,\n",
    "    subsample=0.8,\n",
    "    objective=\"multi:softprob\",\n",
    "    num_class=19,\n",
    "    verbosity=0,\n",
    "    num_round=100,\n",
    ")"
   ]
  },
  {
   "cell_type": "markdown",
   "id": "b36463dd",
   "metadata": {},
   "source": [
    "And train the model"
   ]
  },
  {
   "cell_type": "code",
   "execution_count": null,
   "id": "c24e06fc",
   "metadata": {
    "scrolled": true
   },
   "outputs": [],
   "source": [
    "xgb.fit({\"train\": s3_input_train, \"validation\": s3_input_validation})"
   ]
  },
  {
   "cell_type": "markdown",
   "id": "8b716cd7",
   "metadata": {},
   "source": [
    "### 5. Using the endpoint <a class=\"anchor\" id=\"Using-the-endpoint\"></a>\n",
    "\n",
    "Deploy the model to an endpoint"
   ]
  },
  {
   "cell_type": "code",
   "execution_count": null,
   "id": "042ae1c4-4ad3-42ba-883e-87fd7b1bcb20",
   "metadata": {},
   "outputs": [],
   "source": [
    "xgb.model_data"
   ]
  },
  {
   "cell_type": "code",
   "execution_count": null,
   "id": "78444d49-4ad3-49e4-a579-19b173facb26",
   "metadata": {},
   "outputs": [],
   "source": [
    "serving_function = project.get_function(\"serving\")"
   ]
  },
  {
   "cell_type": "code",
   "execution_count": null,
   "id": "bd061d8f-82e5-4ed2-b3ed-d994fadaceaa",
   "metadata": {},
   "outputs": [],
   "source": [
    "# Set the topology and get the graph object:\n",
    "graph = serving_function.set_topology(\"flow\", engine=\"async\")\n",
    "\n",
    "# Add the steps:\n",
    "graph.to(handler=\"preprocess\", name=\"preprocess\") \\\n",
    "     .to(\"XGBModelServer\",\n",
    "         name=\"xgboost-model\",\n",
    "         model_path=xgb.model_data) \\\n",
    "     .to(handler=\"postprocess\", name=\"postprocess\").respond()\n",
    "\n",
    "# Plot to graph:\n",
    "serving_function.plot(rankdir='LR')"
   ]
  },
  {
   "cell_type": "code",
   "execution_count": null,
   "id": "ceae49b8-98d1-4c00-8bde-597ee80cf6e3",
   "metadata": {},
   "outputs": [],
   "source": [
    "project.deploy_function(\"serving\")"
   ]
  },
  {
   "cell_type": "code",
   "execution_count": null,
   "id": "c858e3e9-9e43-4148-8015-6047565db456",
   "metadata": {},
   "outputs": [],
   "source": [
    "samples = test_data.drop('transaction_category',axis=1)[:500].values.tolist()"
   ]
  },
  {
   "cell_type": "code",
   "execution_count": null,
   "id": "de741da6-8ff6-4f60-bae4-3c1d11df87c4",
   "metadata": {},
   "outputs": [],
   "source": [
    "response = serving_function.invoke(path='/predict', body={\"inputs\": samples})"
   ]
  },
  {
   "cell_type": "markdown",
   "id": "712f4d35",
   "metadata": {},
   "source": [
    "### 6. Evaluate performance <a class=\"anchor\" id=\"Evaluate-performance\"></a>\n",
    "\n",
    "Run the model on our test data"
   ]
  },
  {
   "cell_type": "code",
   "execution_count": null,
   "id": "2e863ea7-5804-4637-b677-390c305cabfe",
   "metadata": {},
   "outputs": [],
   "source": [
    "s3_data = \"s3://{}/{}/test/test.csv\".format(s3_bucket, bucket_prefix)"
   ]
  },
  {
   "cell_type": "markdown",
   "id": "507de272-df4e-4fbe-be2e-cd99fae1b63a",
   "metadata": {},
   "source": [
    "Add the evaluation function to our project"
   ]
  },
  {
   "cell_type": "code",
   "execution_count": null,
   "id": "ca4f7e49",
   "metadata": {},
   "outputs": [],
   "source": [
    "evaluate_function = project.get_function(\"evaluate\")"
   ]
  },
  {
   "cell_type": "markdown",
   "id": "9ba13872-7f0e-4033-96ce-ad8cde950442",
   "metadata": {},
   "source": [
    "Run the evaluation job"
   ]
  },
  {
   "cell_type": "code",
   "execution_count": null,
   "id": "b6eab7af-e967-4e22-9817-18cc4bf2db0c",
   "metadata": {},
   "outputs": [],
   "source": [
    "evaluate_run = evaluate_function.run(\n",
    "    handler=\"evaluate\",\n",
    "    params={\n",
    "        \"model_path\": xgb.model_data,\n",
    "        \"model_name\": \"xgboost-model\",\n",
    "        \"test_set\": s3_data,\n",
    "        \"label_column\": \"transaction_category\",\n",
    "        \"factorize_key\": factorize_key,\n",
    "    },\n",
    "    returns=[\"classification_report: dataset\"])"
   ]
  },
  {
   "cell_type": "markdown",
   "id": "ffc4326e-3085-47e1-b1f6-97d5eceba893",
   "metadata": {},
   "source": [
    "See the evaluation result"
   ]
  },
  {
   "cell_type": "code",
   "execution_count": null,
   "id": "3a9c30bd-a3bf-49f1-b57e-1490f3da00f2",
   "metadata": {},
   "outputs": [],
   "source": [
    "evaluate_run.artifact(\"classification_report\").as_df()"
   ]
  },
  {
   "cell_type": "markdown",
   "id": "98d0b67e",
   "metadata": {
    "editable": true,
    "slideshow": {
     "slide_type": ""
    },
    "tags": []
   },
   "source": [
    "You should see results similar to this:\n",
    "\n",
    "```\n",
    "                        precision    recall  f1-score   support\n",
    "\n",
    "         Uncategorized       1.00      0.92      0.96        51\n",
    "         Entertainment       0.81      0.89      0.85      1486\n",
    "             Education       1.00      0.94      0.97        80\n",
    "              Shopping       0.86      0.94      0.90      3441\n",
    "         Personal Care       1.00      0.98      0.99       132\n",
    "    Health and Fitness       0.99      0.89      0.94       443\n",
    "       Food and Dining       0.99      0.82      0.90       918\n",
    "   Gifts and Donations       1.00      0.95      0.97       275\n",
    "           Investments       0.99      0.97      0.98        88\n",
    "   Bills and Utilities       1.00      0.99      1.00       332\n",
    "    Auto and Transport       0.94      0.84      0.88      1967\n",
    "                Travel       0.96      0.84      0.90       120\n",
    "      Fees and Charges       1.00      0.94      0.97       106\n",
    "     Business Services       1.00      0.99      1.00       146\n",
    "     Personal Services       1.00      0.96      0.98        75\n",
    "                 Taxes       0.98      0.94      0.96        47\n",
    "              Gambling       1.00      1.00      1.00        15\n",
    "                  Home       0.98      0.89      0.93       168\n",
    "Pension and insurances       0.99      1.00      1.00       110\n",
    "\n",
    "              accuracy                           0.90     10000\n",
    "             macro avg       0.97      0.93      0.95     10000\n",
    "          weighted avg       0.91      0.90      0.90     10000\n",
    "```"
   ]
  },
  {
   "cell_type": "markdown",
   "id": "49fdc82d",
   "metadata": {},
   "source": [
    "### 7. Clean up <a class=\"anchor\" id=\"Clean-up\"></a>\n",
    "\n",
    "Remove the feature group and endpoint to clean up"
   ]
  },
  {
   "cell_type": "code",
   "execution_count": null,
   "id": "f79b1164",
   "metadata": {},
   "outputs": [],
   "source": [
    "#feature_group.delete()\n",
    "#xgb_predictor.delete_endpoint(delete_endpoint_config=True)"
   ]
  },
  {
   "cell_type": "markdown",
   "id": "e04b6fa6",
   "metadata": {
    "editable": true,
    "slideshow": {
     "slide_type": ""
    },
    "tags": []
   },
   "source": [
    "## Notebook CI Test Results\n",
    "\n",
    "This notebook was tested in multiple regions. The test results are as follows, except for us-west-2 which is shown at the top of the notebook.\n",
    "\n",
    "![This us-east-1 badge failed to load. Check your device's internet connectivity, otherwise the service is currently unavailable](https://prod.us-west-2.tcx-beacon.docs.aws.dev/sagemaker-nb/us-east-1/use-cases|financial_payment_classification|financial_payment_classification.ipynb)\n",
    "\n",
    "![This us-east-2 badge failed to load. Check your device's internet connectivity, otherwise the service is currently unavailable](https://prod.us-west-2.tcx-beacon.docs.aws.dev/sagemaker-nb/us-east-2/use-cases|financial_payment_classification|financial_payment_classification.ipynb)\n",
    "\n",
    "![This us-west-1 badge failed to load. Check your device's internet connectivity, otherwise the service is currently unavailable](https://prod.us-west-2.tcx-beacon.docs.aws.dev/sagemaker-nb/us-west-1/use-cases|financial_payment_classification|financial_payment_classification.ipynb)\n",
    "\n",
    "![This ca-central-1 badge failed to load. Check your device's internet connectivity, otherwise the service is currently unavailable](https://prod.us-west-2.tcx-beacon.docs.aws.dev/sagemaker-nb/ca-central-1/use-cases|financial_payment_classification|financial_payment_classification.ipynb)\n",
    "\n",
    "![This sa-east-1 badge failed to load. Check your device's internet connectivity, otherwise the service is currently unavailable](https://prod.us-west-2.tcx-beacon.docs.aws.dev/sagemaker-nb/sa-east-1/use-cases|financial_payment_classification|financial_payment_classification.ipynb)\n",
    "\n",
    "![This eu-west-1 badge failed to load. Check your device's internet connectivity, otherwise the service is currently unavailable](https://prod.us-west-2.tcx-beacon.docs.aws.dev/sagemaker-nb/eu-west-1/use-cases|financial_payment_classification|financial_payment_classification.ipynb)\n",
    "\n",
    "![This eu-west-2 badge failed to load. Check your device's internet connectivity, otherwise the service is currently unavailable](https://prod.us-west-2.tcx-beacon.docs.aws.dev/sagemaker-nb/eu-west-2/use-cases|financial_payment_classification|financial_payment_classification.ipynb)\n",
    "\n",
    "![This eu-west-3 badge failed to load. Check your device's internet connectivity, otherwise the service is currently unavailable](https://prod.us-west-2.tcx-beacon.docs.aws.dev/sagemaker-nb/eu-west-3/use-cases|financial_payment_classification|financial_payment_classification.ipynb)\n",
    "\n",
    "![This eu-central-1 badge failed to load. Check your device's internet connectivity, otherwise the service is currently unavailable](https://prod.us-west-2.tcx-beacon.docs.aws.dev/sagemaker-nb/eu-central-1/use-cases|financial_payment_classification|financial_payment_classification.ipynb)\n",
    "\n",
    "![This eu-north-1 badge failed to load. Check your device's internet connectivity, otherwise the service is currently unavailable](https://prod.us-west-2.tcx-beacon.docs.aws.dev/sagemaker-nb/eu-north-1/use-cases|financial_payment_classification|financial_payment_classification.ipynb)\n",
    "\n",
    "![This ap-southeast-1 badge failed to load. Check your device's internet connectivity, otherwise the service is currently unavailable](https://prod.us-west-2.tcx-beacon.docs.aws.dev/sagemaker-nb/ap-southeast-1/use-cases|financial_payment_classification|financial_payment_classification.ipynb)\n",
    "\n",
    "![This ap-southeast-2 badge failed to load. Check your device's internet connectivity, otherwise the service is currently unavailable](https://prod.us-west-2.tcx-beacon.docs.aws.dev/sagemaker-nb/ap-southeast-2/use-cases|financial_payment_classification|financial_payment_classification.ipynb)\n",
    "\n",
    "![This ap-northeast-1 badge failed to load. Check your device's internet connectivity, otherwise the service is currently unavailable](https://prod.us-west-2.tcx-beacon.docs.aws.dev/sagemaker-nb/ap-northeast-1/use-cases|financial_payment_classification|financial_payment_classification.ipynb)\n",
    "\n",
    "![This ap-northeast-2 badge failed to load. Check your device's internet connectivity, otherwise the service is currently unavailable](https://prod.us-west-2.tcx-beacon.docs.aws.dev/sagemaker-nb/ap-northeast-2/use-cases|financial_payment_classification|financial_payment_classification.ipynb)\n",
    "\n",
    "![This ap-south-1 badge failed to load. Check your device's internet connectivity, otherwise the service is currently unavailable](https://prod.us-west-2.tcx-beacon.docs.aws.dev/sagemaker-nb/ap-south-1/use-cases|financial_payment_classification|financial_payment_classification.ipynb)\n"
   ]
  }
 ],
 "metadata": {
  "instance_type": "ml.t3.medium",
  "kernelspec": {
   "display_name": "smdemo",
   "language": "python",
   "name": "smdemo"
  },
  "language_info": {
   "codemirror_mode": {
    "name": "ipython",
    "version": 3
   },
   "file_extension": ".py",
   "mimetype": "text/x-python",
   "name": "python",
   "nbconvert_exporter": "python",
   "pygments_lexer": "ipython3",
   "version": "3.9.18"
  }
 },
 "nbformat": 4,
 "nbformat_minor": 5
}
