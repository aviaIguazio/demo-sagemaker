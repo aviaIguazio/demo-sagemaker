{
 "cells": [
  {
   "cell_type": "code",
   "execution_count": 1,
   "id": "1b3d7eb9-b601-47b4-a914-191e5bcf2764",
   "metadata": {},
   "outputs": [],
   "source": [
    "import mlrun"
   ]
  },
  {
   "cell_type": "code",
   "execution_count": 2,
   "id": "41fa803e-cd2c-46ff-ba0c-6ff6d7b0b92c",
   "metadata": {},
   "outputs": [],
   "source": [
    "#import sys\n",
    "#!{sys.executable} -m pip install --upgrade xgboost     --quiet # upgrade boto to the latest vesion"
   ]
  },
  {
   "cell_type": "code",
   "execution_count": 3,
   "id": "2c7bb858-9603-4c67-92c0-722b0cf24714",
   "metadata": {
    "scrolled": true
   },
   "outputs": [
    {
     "name": "stdout",
     "output_type": "stream",
     "text": [
      "> 2024-02-08 10:46:56,324 [info] Project loaded successfully: {'project_name': 'sagemaker-v3'}\n"
     ]
    }
   ],
   "source": [
    "project = mlrun.get_or_create_project(\n",
    "    name=\"sagemaker-v3\", \n",
    "    user_project=True,\n",
    "    parameters={\n",
    "        # \"source\" : \"git://github.com/mlrun/demo-sagemaker#main\",\n",
    "        \"default_image\" : \"yonishelach/sagemaker-demo\"\n",
    "    }\n",
    ")"
   ]
  },
  {
   "cell_type": "code",
   "execution_count": 4,
   "id": "74dab54c-6348-4a18-9db5-5d8074370fb0",
   "metadata": {},
   "outputs": [],
   "source": [
    "model_path = 's3://sagemaker-us-east-2-934638699319/payment-classification/output/sagemaker-xgboost-2024-02-07-17-07-42-480/output/model.tar.gz'"
   ]
  },
  {
   "cell_type": "code",
   "execution_count": 5,
   "id": "3ee1d9bd-2652-4349-8df5-e231edb6acfa",
   "metadata": {},
   "outputs": [],
   "source": [
    "test_serving_function = project.set_function(\n",
    "        func=\"src/functions/serving.py\",\n",
    "        name=\"test-serving\",\n",
    "        kind=\"serving\",\n",
    ")"
   ]
  },
  {
   "cell_type": "code",
   "execution_count": 6,
   "id": "3da03265-204e-4600-8746-adc81f7ce3bf",
   "metadata": {},
   "outputs": [],
   "source": [
    "import pandas as pd\n",
    "data = pd.read_csv(\n",
    "    \"test.csv\")"
   ]
  },
  {
   "cell_type": "code",
   "execution_count": 7,
   "id": "b004f4de-cab6-47b6-b786-07b0601eac82",
   "metadata": {},
   "outputs": [],
   "source": [
    "data_cols = list(data.columns)"
   ]
  },
  {
   "cell_type": "code",
   "execution_count": 8,
   "id": "5122852e-74b7-409b-b7c8-0941d22ba2d2",
   "metadata": {},
   "outputs": [
    {
     "data": {
      "text/plain": [
       "['transaction_category_key',\n",
       " 'amount_avg_1d',\n",
       " 'receiver_id',\n",
       " 'sender_id',\n",
       " 'amount',\n",
       " 'timestamp_year',\n",
       " 'timestamp_month',\n",
       " 'timestamp_day',\n",
       " 'timestamp_hour',\n",
       " 'timestamp_minute',\n",
       " 'timestamp_second',\n",
       " 'distance']"
      ]
     },
     "execution_count": 8,
     "metadata": {},
     "output_type": "execute_result"
    }
   ],
   "source": [
    "data_cols"
   ]
  },
  {
   "cell_type": "code",
   "execution_count": null,
   "id": "1b81e491-e4d8-4253-8f6d-65b5a8a74640",
   "metadata": {},
   "outputs": [],
   "source": []
  },
  {
   "cell_type": "code",
   "execution_count": 9,
   "id": "41719e95-2d93-437f-8ace-57963e281d9d",
   "metadata": {},
   "outputs": [],
   "source": [
    "# Import MLRun's Feature Store\n",
    "import mlrun.feature_store as fstore\n",
    "\n",
    "# create feature vector on top of aggreagations\n",
    "# Define the list of features we will be using\n",
    "features = [f\"transactions-v13.{name}\" for name in data_cols] \n",
    "\n",
    "# Define the feature vector name for future reference\n",
    "fv_name = 'transactions-vector-v3'\n",
    "\n",
    "# Define the feature vector using our Feature Store (fstore)\n",
    "transactions_fv = fstore.FeatureVector(fv_name, \n",
    "                          features,                           \n",
    "                          description='stocks information')\n",
    "\n",
    "#label_feature = 'transactions-v2.transaction_category',\n",
    "# Save the feature vector in the Feature Store\n",
    "transactions_fv.save()"
   ]
  },
  {
   "cell_type": "code",
   "execution_count": 10,
   "id": "81b398c4-4aa0-4746-8a4c-e8c745027692",
   "metadata": {},
   "outputs": [],
   "source": [
    "import mlrun.feature_store as fs\n",
    "# resp = fs.FeatureVector.get_offline_features(\"store://feature-vectors/sagemaker-v3-admin/transactions-vector-v3:latest\")\n",
    "# #Preview the dataset\n",
    "# resp.to_dataframe().tail(5)\n",
    "\n",
    "svc = fs.FeatureVector.get_online_feature_service(\"store://feature-vectors/sagemaker-v3-admin/transactions-vector-v3:latest\")\n",
    "resp = svc.get([{\"transaction_id\": \"42\"}])"
   ]
  },
  {
   "cell_type": "code",
   "execution_count": 11,
   "id": "04f288c0-11bc-45a1-ba23-c435e1696aa4",
   "metadata": {},
   "outputs": [
    {
     "data": {
      "text/plain": [
       "[None]"
      ]
     },
     "execution_count": 11,
     "metadata": {},
     "output_type": "execute_result"
    }
   ],
   "source": [
    "resp"
   ]
  },
  {
   "cell_type": "code",
   "execution_count": 12,
   "id": "82817363-e449-4c0b-8527-1642b74c9406",
   "metadata": {},
   "outputs": [],
   "source": [
    "# # Set the topology and get the graph object:\n",
    "# graph = test_serving_function.set_topology(\"flow\", engine=\"async\")\n",
    "\n",
    "# # Add the steps:\n",
    "# graph.to(\"XGBModelServer\",\n",
    "#          name=\"xgboost-model\",\n",
    "#          model_path=model_path) \\\n",
    "#      .to(handler=\"postprocess\", name=\"postprocess\").respond()\n",
    "\n",
    "# # Plot to graph:\n",
    "# test_serving_function.plot(rankdir='LR')"
   ]
  },
  {
   "cell_type": "code",
   "execution_count": 19,
   "id": "e07c6b0b-7c9a-4c44-bb08-ea8a865a043c",
   "metadata": {},
   "outputs": [],
   "source": [
    "#print(test_serving_function.spec.to_yaml())"
   ]
  },
  {
   "cell_type": "code",
   "execution_count": 29,
   "id": "6a291b9c-0acc-4807-ab8e-4bec180a2bbf",
   "metadata": {},
   "outputs": [
    {
     "data": {
      "image/svg+xml": [
       "<?xml version=\"1.0\" encoding=\"UTF-8\" standalone=\"no\"?>\n",
       "<!DOCTYPE svg PUBLIC \"-//W3C//DTD SVG 1.1//EN\"\n",
       " \"http://www.w3.org/Graphics/SVG/1.1/DTD/svg11.dtd\">\n",
       "<!-- Generated by graphviz version 8.1.0 (20230707.2238)\n",
       " -->\n",
       "<!-- Title: mlrun&#45;flow Pages: 1 -->\n",
       "<svg width=\"146pt\" height=\"196pt\"\n",
       " viewBox=\"0.00 0.00 146.06 196.00\" xmlns=\"http://www.w3.org/2000/svg\" xmlns:xlink=\"http://www.w3.org/1999/xlink\">\n",
       "<g id=\"graph0\" class=\"graph\" transform=\"scale(1 1) rotate(0) translate(4 192)\">\n",
       "<title>mlrun&#45;flow</title>\n",
       "<polygon fill=\"white\" stroke=\"none\" points=\"-4,4 -4,-192 142.06,-192 142.06,4 -4,4\"/>\n",
       "<!-- _start -->\n",
       "<g id=\"node1\" class=\"node\">\n",
       "<title>_start</title>\n",
       "<polygon fill=\"lightgrey\" stroke=\"black\" points=\"72.29,-152.05 74.45,-152.15 76.59,-152.3 78.69,-152.49 80.76,-152.74 82.78,-153.03 84.74,-153.36 86.64,-153.75 88.47,-154.18 90.22,-154.65 91.89,-155.16 93.47,-155.71 94.95,-156.31 96.33,-156.94 97.61,-157.61 98.78,-158.31 99.85,-159.04 100.8,-159.8 101.63,-160.59 102.35,-161.41 102.96,-162.25 103.45,-163.11 103.83,-163.99 104.09,-164.89 104.24,-165.8 104.28,-166.72 104.21,-167.65 104.04,-168.59 103.77,-169.53 103.4,-170.47 102.94,-171.41 102.39,-172.35 101.76,-173.28 101.05,-174.2 100.26,-175.11 99.4,-176.01 98.48,-176.89 97.5,-177.75 96.46,-178.59 95.37,-179.41 94.24,-180.2 93.06,-180.96 91.84,-181.69 90.6,-182.39 89.32,-183.06 88.01,-183.69 86.68,-184.29 85.33,-184.84 83.96,-185.35 82.58,-185.82 81.18,-186.25 79.77,-186.64 78.36,-186.97 76.93,-187.26 75.5,-187.51 74.07,-187.7 72.63,-187.85 71.19,-187.95 69.75,-188 68.31,-188 66.87,-187.95 65.42,-187.85 63.99,-187.7 62.55,-187.51 61.12,-187.26 59.7,-186.97 58.28,-186.64 56.88,-186.25 55.48,-185.82 54.1,-185.35 52.73,-184.84 51.38,-184.29 50.05,-183.69 48.74,-183.06 47.46,-182.39 46.21,-181.69 45,-180.96 43.82,-180.2 42.68,-179.41 41.59,-178.59 40.56,-177.75 39.57,-176.89 38.65,-176.01 37.8,-175.11 37.01,-174.2 36.3,-173.28 35.66,-172.35 35.11,-171.41 34.65,-170.47 34.29,-169.53 34.02,-168.59 33.84,-167.65 33.78,-166.72 33.82,-165.8 33.97,-164.89 34.23,-163.99 34.61,-163.11 35.1,-162.25 35.7,-161.41 36.42,-160.59 37.26,-159.8 38.21,-159.04 39.27,-158.31 40.44,-157.61 41.72,-156.94 43.11,-156.31 44.59,-155.71 46.17,-155.16 47.84,-154.65 49.59,-154.18 51.41,-153.75 53.31,-153.36 55.28,-153.03 57.3,-152.74 59.36,-152.49 61.47,-152.3 63.61,-152.15 65.77,-152.05 67.94,-152 70.12,-152 72.29,-152.05\"/>\n",
       "<text text-anchor=\"middle\" x=\"69.03\" y=\"-164.57\" font-family=\"Times,serif\" font-size=\"14.00\">start</text>\n",
       "</g>\n",
       "<g id=\"node2\" class=\"node\">\n",
       "<title></title>\n",
       "<polygon fill=\"none\" stroke=\"black\" points=\"96.03,-86.54 96.03,-101.46 80.21,-112 57.84,-112 42.03,-101.46 42.03,-86.54 57.84,-76 80.21,-76 96.03,-86.54\"/>\n",
       "<polygon fill=\"none\" stroke=\"black\" points=\"100.03,-84.4 100.03,-103.6 81.42,-116 56.63,-116 38.03,-103.6 38.03,-84.4 56.63,-72 81.42,-72 100.03,-84.4\"/>\n",
       "</g>\n",
       "<!-- _start&#45;&gt; -->\n",
       "<g id=\"edge1\" class=\"edge\">\n",
       "<title>_start&#45;&gt;</title>\n",
       "<path fill=\"none\" stroke=\"black\" d=\"M69.03,-151.84C69.03,-144.47 69.03,-135.62 69.03,-127.12\"/>\n",
       "<polygon fill=\"black\" stroke=\"black\" points=\"72.53,-127.3 69.03,-117.3 65.53,-127.3 72.53,-127.3\"/>\n",
       "</g>\n",
       "<!-- xgboost&#45;model -->\n",
       "<g id=\"node3\" class=\"node\">\n",
       "<title>xgboost&#45;model</title>\n",
       "<ellipse fill=\"none\" stroke=\"black\" cx=\"69.03\" cy=\"-18\" rx=\"69.03\" ry=\"18\"/>\n",
       "<text text-anchor=\"middle\" x=\"69.03\" y=\"-12.57\" font-family=\"Times,serif\" font-size=\"14.00\">xgboost&#45;model</text>\n",
       "</g>\n",
       "<!-- &#45;&gt;xgboost&#45;model -->\n",
       "<g id=\"edge2\" class=\"edge\">\n",
       "<title>&#45;&gt;xgboost&#45;model</title>\n",
       "<path fill=\"none\" stroke=\"black\" d=\"M69.03,-71.6C69.03,-63.94 69.03,-55.19 69.03,-47.05\"/>\n",
       "<polygon fill=\"black\" stroke=\"black\" points=\"72.53,-47.13 69.03,-37.13 65.53,-47.13 72.53,-47.13\"/>\n",
       "</g>\n",
       "</g>\n",
       "</svg>\n"
      ],
      "text/plain": [
       "<graphviz.graphs.Digraph at 0x7f8cb562bd30>"
      ]
     },
     "execution_count": 29,
     "metadata": {},
     "output_type": "execute_result"
    }
   ],
   "source": [
    "\n",
    "# test_serving_function.set_topology(\n",
    "#     \"router\",\n",
    "#     mlrun.serving.routers.EnrichmentModelRouter(\n",
    "#         feature_vector_uri=\"store://feature-vectors/sagemaker-v3-admin/transactions-vector-v3:latest\",\n",
    "#         impute_policy={\"*\": \"$mean\"}),\n",
    "# )\n",
    "# # add the 3 trained models to the Ensemble\n",
    "# for model in project.list_models('', tag='latest'):\n",
    "#     name = model.spec.db_key\n",
    "#     serving_fn.add_model(name, class_name=\"ClassifierModel\", model_path=model.uri)\n",
    "\n",
    "test_serving_function.add_model(\"xgboost-model\", class_name=\"XGBModelServer\", model_path=model_path)\n",
    "\n",
    "# Plot the ensemble configuration\n",
    "test_serving_function.spec.graph.plot()"
   ]
  },
  {
   "cell_type": "code",
   "execution_count": 30,
   "id": "fb976023-5a2c-4dc8-b1b7-fd897446b747",
   "metadata": {},
   "outputs": [
    {
     "name": "stdout",
     "output_type": "stream",
     "text": [
      "> 2024-02-08 11:07:24,154 [info] model xgboost-model was loaded\n",
      "> 2024-02-08 11:07:24,155 [info] Loaded ['xgboost-model']\n"
     ]
    }
   ],
   "source": [
    "server = test_serving_function.to_mock_server()"
   ]
  },
  {
   "cell_type": "code",
   "execution_count": 39,
   "id": "35e98782-129d-4ffb-b27e-d580589d6106",
   "metadata": {},
   "outputs": [],
   "source": [
    "import pandas as pd\n",
    "data = pd.read_csv(\n",
    "    \"test.csv\")"
   ]
  },
  {
   "cell_type": "code",
   "execution_count": 40,
   "id": "dfd10537-482a-404b-b765-b0db5cbb497b",
   "metadata": {},
   "outputs": [],
   "source": [
    "data = data.drop('transaction_category_key', axis=1)"
   ]
  },
  {
   "cell_type": "code",
   "execution_count": 41,
   "id": "8f67e627-cfbf-4b8b-a5b3-7b9e836f779a",
   "metadata": {},
   "outputs": [],
   "source": [
    "data = data[:1]"
   ]
  },
  {
   "cell_type": "code",
   "execution_count": 42,
   "id": "90abdb9d-3140-45eb-9a4d-a83a74b95700",
   "metadata": {},
   "outputs": [
    {
     "data": {
      "text/html": [
       "<div>\n",
       "<style scoped>\n",
       "    .dataframe tbody tr th:only-of-type {\n",
       "        vertical-align: middle;\n",
       "    }\n",
       "\n",
       "    .dataframe tbody tr th {\n",
       "        vertical-align: top;\n",
       "    }\n",
       "\n",
       "    .dataframe thead th {\n",
       "        text-align: right;\n",
       "    }\n",
       "</style>\n",
       "<table border=\"1\" class=\"dataframe\">\n",
       "  <thead>\n",
       "    <tr style=\"text-align: right;\">\n",
       "      <th></th>\n",
       "      <th>amount_avg_1d</th>\n",
       "      <th>receiver_id</th>\n",
       "      <th>sender_id</th>\n",
       "      <th>amount</th>\n",
       "      <th>timestamp_year</th>\n",
       "      <th>timestamp_month</th>\n",
       "      <th>timestamp_day</th>\n",
       "      <th>timestamp_hour</th>\n",
       "      <th>timestamp_minute</th>\n",
       "      <th>timestamp_second</th>\n",
       "      <th>distance</th>\n",
       "    </tr>\n",
       "  </thead>\n",
       "  <tbody>\n",
       "    <tr>\n",
       "      <th>0</th>\n",
       "      <td>53.07</td>\n",
       "      <td>4.726537e+15</td>\n",
       "      <td>4.070479e+15</td>\n",
       "      <td>53.07</td>\n",
       "      <td>2021</td>\n",
       "      <td>2</td>\n",
       "      <td>19</td>\n",
       "      <td>19</td>\n",
       "      <td>37</td>\n",
       "      <td>40</td>\n",
       "      <td>26.535</td>\n",
       "    </tr>\n",
       "  </tbody>\n",
       "</table>\n",
       "</div>"
      ],
      "text/plain": [
       "   amount_avg_1d   receiver_id     sender_id  amount  timestamp_year  \\\n",
       "0          53.07  4.726537e+15  4.070479e+15   53.07            2021   \n",
       "\n",
       "   timestamp_month  timestamp_day  timestamp_hour  timestamp_minute  \\\n",
       "0                2             19              19                37   \n",
       "\n",
       "   timestamp_second  distance  \n",
       "0                40    26.535  "
      ]
     },
     "execution_count": 42,
     "metadata": {},
     "output_type": "execute_result"
    }
   ],
   "source": [
    "data"
   ]
  },
  {
   "cell_type": "code",
   "execution_count": 45,
   "id": "09081ad4-e6d9-4ed8-9d47-ee0175bd291e",
   "metadata": {},
   "outputs": [
    {
     "data": {
      "text/plain": [
       "[[53.07,\n",
       "  4726536548206059.0,\n",
       "  4070478627221885.0,\n",
       "  53.07,\n",
       "  2021.0,\n",
       "  2.0,\n",
       "  19.0,\n",
       "  19.0,\n",
       "  37.0,\n",
       "  40.0,\n",
       "  26.535]]"
      ]
     },
     "execution_count": 45,
     "metadata": {},
     "output_type": "execute_result"
    }
   ],
   "source": [
    "data_ls = data.values.tolist()\n",
    "data_ls"
   ]
  },
  {
   "cell_type": "code",
   "execution_count": 47,
   "id": "d9b9df7b-3fce-4e2b-b739-2a845ae1df30",
   "metadata": {},
   "outputs": [],
   "source": [
    "inputs_data = {'inputs': data_ls }"
   ]
  },
  {
   "cell_type": "code",
   "execution_count": 48,
   "id": "dff40293-9d50-400c-9a1b-62a7e610e176",
   "metadata": {},
   "outputs": [
    {
     "name": "stdout",
     "output_type": "stream",
     "text": [
      "> 2024-02-08 11:14:12,578 [error] run error, Traceback (most recent call last):\n",
      "  File \"/home/sagemaker-user/.conda/envs/smdemo/lib/python3.9/site-packages/mlrun/serving/server.py\", line 280, in run\n",
      "    response = self.graph.run(event, **(extra_args or {}))\n",
      "  File \"/home/sagemaker-user/.conda/envs/smdemo/lib/python3.9/site-packages/mlrun/serving/states.py\", line 548, in run\n",
      "    raise exc\n",
      "  File \"/home/sagemaker-user/.conda/envs/smdemo/lib/python3.9/site-packages/mlrun/serving/states.py\", line 531, in run\n",
      "    return self._handler(event, *args, **kwargs)\n",
      "  File \"/home/sagemaker-user/.conda/envs/smdemo/lib/python3.9/site-packages/mlrun/serving/routers.py\", line 148, in do_event\n",
      "    event = self.preprocess(event)\n",
      "  File \"/home/sagemaker-user/.conda/envs/smdemo/lib/python3.9/site-packages/mlrun/serving/routers.py\", line 1174, in preprocess\n",
      "    event.body[\"inputs\"] = self._feature_service.get(\n",
      "  File \"/home/sagemaker-user/.conda/envs/smdemo/lib/python3.9/site-packages/mlrun/feature_store/feature_vector.py\", line 892, in get\n",
      "    raise mlrun.errors.MLRunInvalidArgumentError(\n",
      "mlrun.errors.MLRunInvalidArgumentError: input list must be in the same size of the index_keys list\n",
      "\n"
     ]
    },
    {
     "ename": "RuntimeError",
     "evalue": "failed (400): MLRunInvalidArgumentError: input list must be in the same size of the index_keys list",
     "output_type": "error",
     "traceback": [
      "\u001b[0;31m---------------------------------------------------------------------------\u001b[0m",
      "\u001b[0;31mRuntimeError\u001b[0m                              Traceback (most recent call last)",
      "Cell \u001b[0;32mIn[48], line 1\u001b[0m\n\u001b[0;32m----> 1\u001b[0m response \u001b[38;5;241m=\u001b[39m \u001b[43mserver\u001b[49m\u001b[38;5;241;43m.\u001b[39;49m\u001b[43mtest\u001b[49m\u001b[43m(\u001b[49m\u001b[43mbody\u001b[49m\u001b[38;5;241;43m=\u001b[39;49m\u001b[43minputs_data\u001b[49m\u001b[43m)\u001b[49m\n",
      "File \u001b[0;32m~/.conda/envs/smdemo/lib/python3.9/site-packages/mlrun/serving/server.py:250\u001b[0m, in \u001b[0;36mGraphServer.test\u001b[0;34m(self, path, body, method, headers, content_type, silent, get_body, event_id, trigger, offset, time)\u001b[0m\n\u001b[1;32m    248\u001b[0m resp \u001b[38;5;241m=\u001b[39m \u001b[38;5;28mself\u001b[39m\u001b[38;5;241m.\u001b[39mrun(event, get_body\u001b[38;5;241m=\u001b[39mget_body)\n\u001b[1;32m    249\u001b[0m \u001b[38;5;28;01mif\u001b[39;00m \u001b[38;5;28mhasattr\u001b[39m(resp, \u001b[38;5;124m\"\u001b[39m\u001b[38;5;124mstatus_code\u001b[39m\u001b[38;5;124m\"\u001b[39m) \u001b[38;5;129;01mand\u001b[39;00m resp\u001b[38;5;241m.\u001b[39mstatus_code \u001b[38;5;241m>\u001b[39m\u001b[38;5;241m=\u001b[39m \u001b[38;5;241m300\u001b[39m \u001b[38;5;129;01mand\u001b[39;00m \u001b[38;5;129;01mnot\u001b[39;00m silent:\n\u001b[0;32m--> 250\u001b[0m     \u001b[38;5;28;01mraise\u001b[39;00m \u001b[38;5;167;01mRuntimeError\u001b[39;00m(\u001b[38;5;124mf\u001b[39m\u001b[38;5;124m\"\u001b[39m\u001b[38;5;124mfailed (\u001b[39m\u001b[38;5;132;01m{\u001b[39;00mresp\u001b[38;5;241m.\u001b[39mstatus_code\u001b[38;5;132;01m}\u001b[39;00m\u001b[38;5;124m): \u001b[39m\u001b[38;5;132;01m{\u001b[39;00mresp\u001b[38;5;241m.\u001b[39mbody\u001b[38;5;132;01m}\u001b[39;00m\u001b[38;5;124m\"\u001b[39m)\n\u001b[1;32m    251\u001b[0m \u001b[38;5;28;01mreturn\u001b[39;00m resp\n",
      "\u001b[0;31mRuntimeError\u001b[0m: failed (400): MLRunInvalidArgumentError: input list must be in the same size of the index_keys list"
     ]
    }
   ],
   "source": [
    "response = server.test(body=inputs_data)"
   ]
  },
  {
   "cell_type": "code",
   "execution_count": 38,
   "id": "ef10a992-7fce-424f-8733-f1eb190f7c42",
   "metadata": {},
   "outputs": [
    {
     "ename": "NameError",
     "evalue": "name 'response' is not defined",
     "output_type": "error",
     "traceback": [
      "\u001b[0;31m---------------------------------------------------------------------------\u001b[0m",
      "\u001b[0;31mNameError\u001b[0m                                 Traceback (most recent call last)",
      "Cell \u001b[0;32mIn[38], line 1\u001b[0m\n\u001b[0;32m----> 1\u001b[0m \u001b[38;5;28mprint\u001b[39m(\u001b[43mresponse\u001b[49m)\n",
      "\u001b[0;31mNameError\u001b[0m: name 'response' is not defined"
     ]
    }
   ],
   "source": [
    "print(response)"
   ]
  },
  {
   "cell_type": "code",
   "execution_count": null,
   "id": "381d3223-4ff0-454f-b0b7-1ed9589faca5",
   "metadata": {},
   "outputs": [],
   "source": []
  }
 ],
 "metadata": {
  "kernelspec": {
   "display_name": "smdemo",
   "language": "python",
   "name": "smdemo"
  },
  "language_info": {
   "codemirror_mode": {
    "name": "ipython",
    "version": 3
   },
   "file_extension": ".py",
   "mimetype": "text/x-python",
   "name": "python",
   "nbconvert_exporter": "python",
   "pygments_lexer": "ipython3",
   "version": "3.9.18"
  }
 },
 "nbformat": 4,
 "nbformat_minor": 5
}
